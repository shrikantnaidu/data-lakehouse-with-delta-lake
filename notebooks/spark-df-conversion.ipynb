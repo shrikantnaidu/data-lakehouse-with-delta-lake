{
 "cells": [
  {
   "cell_type": "code",
   "execution_count": 1,
   "id": "5ce42c6c-9174-4768-b9a2-89c90ac59109",
   "metadata": {},
   "outputs": [
    {
     "name": "stdout",
     "output_type": "stream",
     "text": [
      "+---------+---+-----------+\n",
      "|     Name|Age|       City|\n",
      "+---------+---+-----------+\n",
      "|    Alice| 25|   New York|\n",
      "|      Bob| 30|Los Angeles|\n",
      "|Catherine| 29|    Chicago|\n",
      "+---------+---+-----------+\n",
      "\n"
     ]
    }
   ],
   "source": [
    "from pyspark.sql import SparkSession\n",
    "import pandas as pd\n",
    "\n",
    "# Create a Spark session\n",
    "spark = SparkSession.builder \\\n",
    "    .appName(\"Pandas to Spark\") \\\n",
    "    .getOrCreate()\n",
    "\n",
    "# Create a Pandas DataFrame\n",
    "data = {\n",
    "    \"Name\": [\"Alice\", \"Bob\", \"Catherine\"],\n",
    "    \"Age\": [25, 30, 29],\n",
    "    \"City\": [\"New York\", \"Los Angeles\", \"Chicago\"]\n",
    "}\n",
    "pdf = pd.DataFrame(data)\n",
    "\n",
    "# Convert Pandas DataFrame to Spark DataFrame\n",
    "spark_df = spark.createDataFrame(pdf)\n",
    "\n",
    "# Show the Spark DataFrame\n",
    "spark_df.show()\n"
   ]
  },
  {
   "cell_type": "code",
   "execution_count": null,
   "id": "5826ad0f-c937-43ac-8d15-57bb39aa3971",
   "metadata": {},
   "outputs": [],
   "source": []
  }
 ],
 "metadata": {
  "kernelspec": {
   "display_name": "Python 3 (ipykernel)",
   "language": "python",
   "name": "python3"
  },
  "language_info": {
   "codemirror_mode": {
    "name": "ipython",
    "version": 3
   },
   "file_extension": ".py",
   "mimetype": "text/x-python",
   "name": "python",
   "nbconvert_exporter": "python",
   "pygments_lexer": "ipython3",
   "version": "3.9.13"
  }
 },
 "nbformat": 4,
 "nbformat_minor": 5
}
