{
 "cells": [
  {
   "cell_type": "markdown",
   "id": "022f6925-7844-4d82-8ba8-eae463234478",
   "metadata": {},
   "source": [
    "# Init SparkContext"
   ]
  },
  {
   "cell_type": "code",
   "execution_count": 1,
   "id": "b623fc16-76c2-44e7-9a41-7dfeff53c830",
   "metadata": {},
   "outputs": [],
   "source": [
    "from datetime import datetime\n",
    "from pyspark import SparkContext, HiveContext\n",
    "from pyspark.sql import SparkSession, SQLContext"
   ]
  },
  {
   "cell_type": "code",
   "execution_count": 2,
   "id": "10b3c8dc-ea9f-43b8-ac3b-f321e31f4c12",
   "metadata": {
    "scrolled": true,
    "tags": []
   },
   "outputs": [
    {
     "name": "stderr",
     "output_type": "stream",
     "text": [
      "/usr/local/spark/python/pyspark/sql/context.py:112: FutureWarning: Deprecated in 3.0.0. Use SparkSession.builder.getOrCreate() instead.\n",
      "  warnings.warn(\n"
     ]
    },
    {
     "data": {
      "text/plain": [
       "[('spark.repl.local.jars',\n",
       "  'file:///usr/local/spark-3.3.1-bin-hadoop3/jars/delta-core_2.12-2.2.0.jar,file:///usr/local/spark-3.3.1-bin-hadoop3/jars/hadoop-aws-3.3.2.jar,file:///usr/local/spark-3.3.1-bin-hadoop3/jars/delta-storage-2.2.0.jar,file:///usr/local/spark-3.3.1-bin-hadoop3/jars/aws-java-sdk-1.12.367.jar,file:///usr/local/spark-3.3.1-bin-hadoop3/jars/s3-2.18.41.jar,file:///usr/local/spark-3.3.1-bin-hadoop3/jars/aws-java-sdk-bundle-1.11.1026.jar'),\n",
       " ('spark.hadoop.fs.s3a.connection.ssl.enabled', 'false'),\n",
       " ('spark.driver.extraJavaOptions',\n",
       "  '-XX:+IgnoreUnrecognizedVMOptions --add-opens=java.base/java.lang=ALL-UNNAMED --add-opens=java.base/java.lang.invoke=ALL-UNNAMED --add-opens=java.base/java.lang.reflect=ALL-UNNAMED --add-opens=java.base/java.io=ALL-UNNAMED --add-opens=java.base/java.net=ALL-UNNAMED --add-opens=java.base/java.nio=ALL-UNNAMED --add-opens=java.base/java.util=ALL-UNNAMED --add-opens=java.base/java.util.concurrent=ALL-UNNAMED --add-opens=java.base/java.util.concurrent.atomic=ALL-UNNAMED --add-opens=java.base/sun.nio.ch=ALL-UNNAMED --add-opens=java.base/sun.nio.cs=ALL-UNNAMED --add-opens=java.base/sun.security.action=ALL-UNNAMED --add-opens=java.base/sun.util.calendar=ALL-UNNAMED --add-opens=java.security.jgss/sun.security.krb5=ALL-UNNAMED'),\n",
       " ('spark.app.id', 'app-20230128072325-0002'),\n",
       " ('spark.hadoop.fs.s3a.access.key', 'minio'),\n",
       " ('spark.hadoop.fs.s3a.path.style.access', 'true'),\n",
       " ('spark.executor.id', 'driver'),\n",
       " ('spark.jars',\n",
       "  'file:///usr/local/spark-3.3.1-bin-hadoop3/jars/delta-core_2.12-2.2.0.jar,file:///usr/local/spark-3.3.1-bin-hadoop3/jars/hadoop-aws-3.3.2.jar,file:///usr/local/spark-3.3.1-bin-hadoop3/jars/delta-storage-2.2.0.jar,file:///usr/local/spark-3.3.1-bin-hadoop3/jars/aws-java-sdk-1.12.367.jar,file:///usr/local/spark-3.3.1-bin-hadoop3/jars/s3-2.18.41.jar,file:///usr/local/spark-3.3.1-bin-hadoop3/jars/aws-java-sdk-bundle-1.11.1026.jar'),\n",
       " ('spark.driver.port', '36293'),\n",
       " ('spark.app.initial.jar.urls',\n",
       "  'spark://7719d42c6b04:36293/jars/s3-2.18.41.jar,spark://7719d42c6b04:36293/jars/hadoop-aws-3.3.2.jar,spark://7719d42c6b04:36293/jars/delta-core_2.12-2.2.0.jar,spark://7719d42c6b04:36293/jars/aws-java-sdk-bundle-1.11.1026.jar,spark://7719d42c6b04:36293/jars/delta-storage-2.2.0.jar,spark://7719d42c6b04:36293/jars/aws-java-sdk-1.12.367.jar'),\n",
       " ('spark.app.submitTime', '1674890604195'),\n",
       " ('spark.app.startTime', '1674890604380'),\n",
       " ('spark.hadoop.fs.s3a.impl', 'org.apache.hadoop.fs.s3a.S3AFileSystem'),\n",
       " ('spark.sql.extensions', 'io.delta.sql.DeltaSparkSessionExtension'),\n",
       " ('spark.rdd.compress', 'True'),\n",
       " ('spark.app.name', 'pyspark-dataframe-demo-2023-01-28 07:23:22.873095'),\n",
       " ('spark.master', 'spark://spark-master:7077'),\n",
       " ('spark.driver.host', '7719d42c6b04'),\n",
       " ('spark.executor.extraJavaOptions',\n",
       "  '-XX:+IgnoreUnrecognizedVMOptions --add-opens=java.base/java.lang=ALL-UNNAMED --add-opens=java.base/java.lang.invoke=ALL-UNNAMED --add-opens=java.base/java.lang.reflect=ALL-UNNAMED --add-opens=java.base/java.io=ALL-UNNAMED --add-opens=java.base/java.net=ALL-UNNAMED --add-opens=java.base/java.nio=ALL-UNNAMED --add-opens=java.base/java.util=ALL-UNNAMED --add-opens=java.base/java.util.concurrent=ALL-UNNAMED --add-opens=java.base/java.util.concurrent.atomic=ALL-UNNAMED --add-opens=java.base/sun.nio.ch=ALL-UNNAMED --add-opens=java.base/sun.nio.cs=ALL-UNNAMED --add-opens=java.base/sun.security.action=ALL-UNNAMED --add-opens=java.base/sun.util.calendar=ALL-UNNAMED --add-opens=java.security.jgss/sun.security.krb5=ALL-UNNAMED'),\n",
       " ('spark.serializer.objectStreamReset', '100'),\n",
       " ('spark.submit.pyFiles', ''),\n",
       " ('spark.submit.deployMode', 'client'),\n",
       " ('spark.hadoop.fs.s3a.endpoint', 'http://minio:9000'),\n",
       " ('spark.hadoop.fs.s3a.secret.key', 'minio123'),\n",
       " ('spark.ui.showConsoleProgress', 'true'),\n",
       " ('spark.sql.catalog.spark_catalog',\n",
       "  'org.apache.spark.sql.delta.catalog.DeltaCatalog')]"
      ]
     },
     "execution_count": 2,
     "metadata": {},
     "output_type": "execute_result"
    }
   ],
   "source": [
    "spark = (SparkSession.builder.appName(\"pyspark-dataframe-demo-{}\".format(datetime.today()))\n",
    "        .master(\"spark://spark-master:7077\")      \n",
    "        .getOrCreate())\n",
    "\n",
    "sqlContext = SQLContext(spark)\n",
    "spark.sparkContext.getConf().getAll()\n"
   ]
  },
  {
   "cell_type": "code",
   "execution_count": null,
   "id": "9d4d22b2-7beb-4ffe-8e97-05a70fba67e3",
   "metadata": {},
   "outputs": [],
   "source": []
  },
  {
   "cell_type": "markdown",
   "id": "d22f7a00-4276-41ca-bc68-3a187e74bd0a",
   "metadata": {},
   "source": [
    "# Create DataFrame"
   ]
  },
  {
   "cell_type": "markdown",
   "id": "95203fef-0e9c-4455-b54d-8d2c814ca58a",
   "metadata": {},
   "source": [
    "## By loading dataset"
   ]
  },
  {
   "cell_type": "code",
   "execution_count": 3,
   "id": "44d94380-b1d5-46a3-9e3c-69cc5e869049",
   "metadata": {},
   "outputs": [
    {
     "data": {
      "text/html": [
       "<div>\n",
       "<style scoped>\n",
       "    .dataframe tbody tr th:only-of-type {\n",
       "        vertical-align: middle;\n",
       "    }\n",
       "\n",
       "    .dataframe tbody tr th {\n",
       "        vertical-align: top;\n",
       "    }\n",
       "\n",
       "    .dataframe thead th {\n",
       "        text-align: right;\n",
       "    }\n",
       "</style>\n",
       "<table border=\"1\" class=\"dataframe\">\n",
       "  <thead>\n",
       "    <tr style=\"text-align: right;\">\n",
       "      <th></th>\n",
       "      <th>order_id</th>\n",
       "      <th>customer_id</th>\n",
       "      <th>order_status</th>\n",
       "      <th>order_purchase_timestamp</th>\n",
       "      <th>order_approved_at</th>\n",
       "      <th>order_delivered_carrier_date</th>\n",
       "      <th>order_delivered_customer_date</th>\n",
       "      <th>order_estimated_delivery_date</th>\n",
       "    </tr>\n",
       "  </thead>\n",
       "  <tbody>\n",
       "    <tr>\n",
       "      <th>0</th>\n",
       "      <td>e481f51cbdc54678b7cc49136f2d6af7</td>\n",
       "      <td>9ef432eb6251297304e76186b10a928d</td>\n",
       "      <td>delivered</td>\n",
       "      <td>2017-10-02 10:56:33</td>\n",
       "      <td>2017-10-02 11:07:15</td>\n",
       "      <td>2017-10-04 19:55:00</td>\n",
       "      <td>2017-10-10 21:25:13</td>\n",
       "      <td>2017-10-18 00:00:00</td>\n",
       "    </tr>\n",
       "    <tr>\n",
       "      <th>1</th>\n",
       "      <td>53cdb2fc8bc7dce0b6741e2150273451</td>\n",
       "      <td>b0830fb4747a6c6d20dea0b8c802d7ef</td>\n",
       "      <td>delivered</td>\n",
       "      <td>2018-07-24 20:41:37</td>\n",
       "      <td>2018-07-26 03:24:27</td>\n",
       "      <td>2018-07-26 14:31:00</td>\n",
       "      <td>2018-08-07 15:27:45</td>\n",
       "      <td>2018-08-13 00:00:00</td>\n",
       "    </tr>\n",
       "    <tr>\n",
       "      <th>2</th>\n",
       "      <td>47770eb9100c2d0c44946d9cf07ec65d</td>\n",
       "      <td>41ce2a54c0b03bf3443c3d931a367089</td>\n",
       "      <td>delivered</td>\n",
       "      <td>2018-08-08 08:38:49</td>\n",
       "      <td>2018-08-08 08:55:23</td>\n",
       "      <td>2018-08-08 13:50:00</td>\n",
       "      <td>2018-08-17 18:06:29</td>\n",
       "      <td>2018-09-04 00:00:00</td>\n",
       "    </tr>\n",
       "    <tr>\n",
       "      <th>3</th>\n",
       "      <td>949d5b44dbf5de918fe9c16f97b45f8a</td>\n",
       "      <td>f88197465ea7920adcdbec7375364d82</td>\n",
       "      <td>delivered</td>\n",
       "      <td>2017-11-18 19:28:06</td>\n",
       "      <td>2017-11-18 19:45:59</td>\n",
       "      <td>2017-11-22 13:39:59</td>\n",
       "      <td>2017-12-02 00:28:42</td>\n",
       "      <td>2017-12-15 00:00:00</td>\n",
       "    </tr>\n",
       "    <tr>\n",
       "      <th>4</th>\n",
       "      <td>ad21c59c0840e6cb83a9ceb5573f8159</td>\n",
       "      <td>8ab97904e6daea8866dbdbc4fb7aad2c</td>\n",
       "      <td>delivered</td>\n",
       "      <td>2018-02-13 21:18:39</td>\n",
       "      <td>2018-02-13 22:20:29</td>\n",
       "      <td>2018-02-14 19:46:34</td>\n",
       "      <td>2018-02-16 18:17:02</td>\n",
       "      <td>2018-02-26 00:00:00</td>\n",
       "    </tr>\n",
       "    <tr>\n",
       "      <th>5</th>\n",
       "      <td>a4591c265e18cb1dcee52889e2d8acc3</td>\n",
       "      <td>503740e9ca751ccdda7ba28e9ab8f608</td>\n",
       "      <td>delivered</td>\n",
       "      <td>2017-07-09 21:57:05</td>\n",
       "      <td>2017-07-09 22:10:13</td>\n",
       "      <td>2017-07-11 14:58:04</td>\n",
       "      <td>2017-07-26 10:57:55</td>\n",
       "      <td>2017-08-01 00:00:00</td>\n",
       "    </tr>\n",
       "    <tr>\n",
       "      <th>6</th>\n",
       "      <td>136cce7faa42fdb2cefd53fdc79a6098</td>\n",
       "      <td>ed0271e0b7da060a393796590e7b737a</td>\n",
       "      <td>invoiced</td>\n",
       "      <td>2017-04-11 12:22:08</td>\n",
       "      <td>2017-04-13 13:25:17</td>\n",
       "      <td>None</td>\n",
       "      <td>None</td>\n",
       "      <td>2017-05-09 00:00:00</td>\n",
       "    </tr>\n",
       "    <tr>\n",
       "      <th>7</th>\n",
       "      <td>6514b8ad8028c9f2cc2374ded245783f</td>\n",
       "      <td>9bdf08b4b3b52b5526ff42d37d47f222</td>\n",
       "      <td>delivered</td>\n",
       "      <td>2017-05-16 13:10:30</td>\n",
       "      <td>2017-05-16 13:22:11</td>\n",
       "      <td>2017-05-22 10:07:46</td>\n",
       "      <td>2017-05-26 12:55:51</td>\n",
       "      <td>2017-06-07 00:00:00</td>\n",
       "    </tr>\n",
       "    <tr>\n",
       "      <th>8</th>\n",
       "      <td>76c6e866289321a7c93b82b54852dc33</td>\n",
       "      <td>f54a9f0e6b351c431402b8461ea51999</td>\n",
       "      <td>delivered</td>\n",
       "      <td>2017-01-23 18:29:09</td>\n",
       "      <td>2017-01-25 02:50:47</td>\n",
       "      <td>2017-01-26 14:16:31</td>\n",
       "      <td>2017-02-02 14:08:10</td>\n",
       "      <td>2017-03-06 00:00:00</td>\n",
       "    </tr>\n",
       "    <tr>\n",
       "      <th>9</th>\n",
       "      <td>e69bfb5eb88e0ed6a785585b27e16dbf</td>\n",
       "      <td>31ad1d1b63eb9962463f764d4e6e0c9d</td>\n",
       "      <td>delivered</td>\n",
       "      <td>2017-07-29 11:55:02</td>\n",
       "      <td>2017-07-29 12:05:32</td>\n",
       "      <td>2017-08-10 19:45:24</td>\n",
       "      <td>2017-08-16 17:14:30</td>\n",
       "      <td>2017-08-23 00:00:00</td>\n",
       "    </tr>\n",
       "    <tr>\n",
       "      <th>10</th>\n",
       "      <td>e6ce16cb79ec1d90b1da9085a6118aeb</td>\n",
       "      <td>494dded5b201313c64ed7f100595b95c</td>\n",
       "      <td>delivered</td>\n",
       "      <td>2017-05-16 19:41:10</td>\n",
       "      <td>2017-05-16 19:50:18</td>\n",
       "      <td>2017-05-18 11:40:40</td>\n",
       "      <td>2017-05-29 11:18:31</td>\n",
       "      <td>2017-06-07 00:00:00</td>\n",
       "    </tr>\n",
       "    <tr>\n",
       "      <th>11</th>\n",
       "      <td>34513ce0c4fab462a55830c0989c7edb</td>\n",
       "      <td>7711cf624183d843aafe81855097bc37</td>\n",
       "      <td>delivered</td>\n",
       "      <td>2017-07-13 19:58:11</td>\n",
       "      <td>2017-07-13 20:10:08</td>\n",
       "      <td>2017-07-14 18:43:29</td>\n",
       "      <td>2017-07-19 14:04:48</td>\n",
       "      <td>2017-08-08 00:00:00</td>\n",
       "    </tr>\n",
       "    <tr>\n",
       "      <th>12</th>\n",
       "      <td>82566a660a982b15fb86e904c8d32918</td>\n",
       "      <td>d3e3b74c766bc6214e0c830b17ee2341</td>\n",
       "      <td>delivered</td>\n",
       "      <td>2018-06-07 10:06:19</td>\n",
       "      <td>2018-06-09 03:13:12</td>\n",
       "      <td>2018-06-11 13:29:00</td>\n",
       "      <td>2018-06-19 12:05:52</td>\n",
       "      <td>2018-07-18 00:00:00</td>\n",
       "    </tr>\n",
       "    <tr>\n",
       "      <th>13</th>\n",
       "      <td>5ff96c15d0b717ac6ad1f3d77225a350</td>\n",
       "      <td>19402a48fe860416adf93348aba37740</td>\n",
       "      <td>delivered</td>\n",
       "      <td>2018-07-25 17:44:10</td>\n",
       "      <td>2018-07-25 17:55:14</td>\n",
       "      <td>2018-07-26 13:16:00</td>\n",
       "      <td>2018-07-30 15:52:25</td>\n",
       "      <td>2018-08-08 00:00:00</td>\n",
       "    </tr>\n",
       "    <tr>\n",
       "      <th>14</th>\n",
       "      <td>432aaf21d85167c2c86ec9448c4e42cc</td>\n",
       "      <td>3df704f53d3f1d4818840b34ec672a9f</td>\n",
       "      <td>delivered</td>\n",
       "      <td>2018-03-01 14:14:28</td>\n",
       "      <td>2018-03-01 15:10:47</td>\n",
       "      <td>2018-03-02 21:09:20</td>\n",
       "      <td>2018-03-12 23:36:26</td>\n",
       "      <td>2018-03-21 00:00:00</td>\n",
       "    </tr>\n",
       "    <tr>\n",
       "      <th>15</th>\n",
       "      <td>dcb36b511fcac050b97cd5c05de84dc3</td>\n",
       "      <td>3b6828a50ffe546942b7a473d70ac0fc</td>\n",
       "      <td>delivered</td>\n",
       "      <td>2018-06-07 19:03:12</td>\n",
       "      <td>2018-06-12 23:31:02</td>\n",
       "      <td>2018-06-11 14:54:00</td>\n",
       "      <td>2018-06-21 15:34:32</td>\n",
       "      <td>2018-07-04 00:00:00</td>\n",
       "    </tr>\n",
       "    <tr>\n",
       "      <th>16</th>\n",
       "      <td>403b97836b0c04a622354cf531062e5f</td>\n",
       "      <td>738b086814c6fcc74b8cc583f8516ee3</td>\n",
       "      <td>delivered</td>\n",
       "      <td>2018-01-02 19:00:43</td>\n",
       "      <td>2018-01-02 19:09:04</td>\n",
       "      <td>2018-01-03 18:19:09</td>\n",
       "      <td>2018-01-20 01:38:59</td>\n",
       "      <td>2018-02-06 00:00:00</td>\n",
       "    </tr>\n",
       "    <tr>\n",
       "      <th>17</th>\n",
       "      <td>116f0b09343b49556bbad5f35bee0cdf</td>\n",
       "      <td>3187789bec990987628d7a9beb4dd6ac</td>\n",
       "      <td>delivered</td>\n",
       "      <td>2017-12-26 23:41:31</td>\n",
       "      <td>2017-12-26 23:50:22</td>\n",
       "      <td>2017-12-28 18:33:05</td>\n",
       "      <td>2018-01-08 22:36:36</td>\n",
       "      <td>2018-01-29 00:00:00</td>\n",
       "    </tr>\n",
       "    <tr>\n",
       "      <th>18</th>\n",
       "      <td>85ce859fd6dc634de8d2f1e290444043</td>\n",
       "      <td>059f7fc5719c7da6cbafe370971a8d70</td>\n",
       "      <td>delivered</td>\n",
       "      <td>2017-11-21 00:03:41</td>\n",
       "      <td>2017-11-21 00:14:22</td>\n",
       "      <td>2017-11-23 21:32:26</td>\n",
       "      <td>2017-11-27 18:28:00</td>\n",
       "      <td>2017-12-11 00:00:00</td>\n",
       "    </tr>\n",
       "    <tr>\n",
       "      <th>19</th>\n",
       "      <td>83018ec114eee8641c97e08f7b4e926f</td>\n",
       "      <td>7f8c8b9c2ae27bf3300f670c3d478be8</td>\n",
       "      <td>delivered</td>\n",
       "      <td>2017-10-26 15:54:26</td>\n",
       "      <td>2017-10-26 16:08:14</td>\n",
       "      <td>2017-10-26 21:46:53</td>\n",
       "      <td>2017-11-08 22:22:00</td>\n",
       "      <td>2017-11-23 00:00:00</td>\n",
       "    </tr>\n",
       "  </tbody>\n",
       "</table>\n",
       "</div>"
      ],
      "text/plain": [
       "                            order_id                       customer_id  \\\n",
       "0   e481f51cbdc54678b7cc49136f2d6af7  9ef432eb6251297304e76186b10a928d   \n",
       "1   53cdb2fc8bc7dce0b6741e2150273451  b0830fb4747a6c6d20dea0b8c802d7ef   \n",
       "2   47770eb9100c2d0c44946d9cf07ec65d  41ce2a54c0b03bf3443c3d931a367089   \n",
       "3   949d5b44dbf5de918fe9c16f97b45f8a  f88197465ea7920adcdbec7375364d82   \n",
       "4   ad21c59c0840e6cb83a9ceb5573f8159  8ab97904e6daea8866dbdbc4fb7aad2c   \n",
       "5   a4591c265e18cb1dcee52889e2d8acc3  503740e9ca751ccdda7ba28e9ab8f608   \n",
       "6   136cce7faa42fdb2cefd53fdc79a6098  ed0271e0b7da060a393796590e7b737a   \n",
       "7   6514b8ad8028c9f2cc2374ded245783f  9bdf08b4b3b52b5526ff42d37d47f222   \n",
       "8   76c6e866289321a7c93b82b54852dc33  f54a9f0e6b351c431402b8461ea51999   \n",
       "9   e69bfb5eb88e0ed6a785585b27e16dbf  31ad1d1b63eb9962463f764d4e6e0c9d   \n",
       "10  e6ce16cb79ec1d90b1da9085a6118aeb  494dded5b201313c64ed7f100595b95c   \n",
       "11  34513ce0c4fab462a55830c0989c7edb  7711cf624183d843aafe81855097bc37   \n",
       "12  82566a660a982b15fb86e904c8d32918  d3e3b74c766bc6214e0c830b17ee2341   \n",
       "13  5ff96c15d0b717ac6ad1f3d77225a350  19402a48fe860416adf93348aba37740   \n",
       "14  432aaf21d85167c2c86ec9448c4e42cc  3df704f53d3f1d4818840b34ec672a9f   \n",
       "15  dcb36b511fcac050b97cd5c05de84dc3  3b6828a50ffe546942b7a473d70ac0fc   \n",
       "16  403b97836b0c04a622354cf531062e5f  738b086814c6fcc74b8cc583f8516ee3   \n",
       "17  116f0b09343b49556bbad5f35bee0cdf  3187789bec990987628d7a9beb4dd6ac   \n",
       "18  85ce859fd6dc634de8d2f1e290444043  059f7fc5719c7da6cbafe370971a8d70   \n",
       "19  83018ec114eee8641c97e08f7b4e926f  7f8c8b9c2ae27bf3300f670c3d478be8   \n",
       "\n",
       "   order_status order_purchase_timestamp    order_approved_at  \\\n",
       "0     delivered      2017-10-02 10:56:33  2017-10-02 11:07:15   \n",
       "1     delivered      2018-07-24 20:41:37  2018-07-26 03:24:27   \n",
       "2     delivered      2018-08-08 08:38:49  2018-08-08 08:55:23   \n",
       "3     delivered      2017-11-18 19:28:06  2017-11-18 19:45:59   \n",
       "4     delivered      2018-02-13 21:18:39  2018-02-13 22:20:29   \n",
       "5     delivered      2017-07-09 21:57:05  2017-07-09 22:10:13   \n",
       "6      invoiced      2017-04-11 12:22:08  2017-04-13 13:25:17   \n",
       "7     delivered      2017-05-16 13:10:30  2017-05-16 13:22:11   \n",
       "8     delivered      2017-01-23 18:29:09  2017-01-25 02:50:47   \n",
       "9     delivered      2017-07-29 11:55:02  2017-07-29 12:05:32   \n",
       "10    delivered      2017-05-16 19:41:10  2017-05-16 19:50:18   \n",
       "11    delivered      2017-07-13 19:58:11  2017-07-13 20:10:08   \n",
       "12    delivered      2018-06-07 10:06:19  2018-06-09 03:13:12   \n",
       "13    delivered      2018-07-25 17:44:10  2018-07-25 17:55:14   \n",
       "14    delivered      2018-03-01 14:14:28  2018-03-01 15:10:47   \n",
       "15    delivered      2018-06-07 19:03:12  2018-06-12 23:31:02   \n",
       "16    delivered      2018-01-02 19:00:43  2018-01-02 19:09:04   \n",
       "17    delivered      2017-12-26 23:41:31  2017-12-26 23:50:22   \n",
       "18    delivered      2017-11-21 00:03:41  2017-11-21 00:14:22   \n",
       "19    delivered      2017-10-26 15:54:26  2017-10-26 16:08:14   \n",
       "\n",
       "   order_delivered_carrier_date order_delivered_customer_date  \\\n",
       "0           2017-10-04 19:55:00           2017-10-10 21:25:13   \n",
       "1           2018-07-26 14:31:00           2018-08-07 15:27:45   \n",
       "2           2018-08-08 13:50:00           2018-08-17 18:06:29   \n",
       "3           2017-11-22 13:39:59           2017-12-02 00:28:42   \n",
       "4           2018-02-14 19:46:34           2018-02-16 18:17:02   \n",
       "5           2017-07-11 14:58:04           2017-07-26 10:57:55   \n",
       "6                          None                          None   \n",
       "7           2017-05-22 10:07:46           2017-05-26 12:55:51   \n",
       "8           2017-01-26 14:16:31           2017-02-02 14:08:10   \n",
       "9           2017-08-10 19:45:24           2017-08-16 17:14:30   \n",
       "10          2017-05-18 11:40:40           2017-05-29 11:18:31   \n",
       "11          2017-07-14 18:43:29           2017-07-19 14:04:48   \n",
       "12          2018-06-11 13:29:00           2018-06-19 12:05:52   \n",
       "13          2018-07-26 13:16:00           2018-07-30 15:52:25   \n",
       "14          2018-03-02 21:09:20           2018-03-12 23:36:26   \n",
       "15          2018-06-11 14:54:00           2018-06-21 15:34:32   \n",
       "16          2018-01-03 18:19:09           2018-01-20 01:38:59   \n",
       "17          2017-12-28 18:33:05           2018-01-08 22:36:36   \n",
       "18          2017-11-23 21:32:26           2017-11-27 18:28:00   \n",
       "19          2017-10-26 21:46:53           2017-11-08 22:22:00   \n",
       "\n",
       "   order_estimated_delivery_date  \n",
       "0            2017-10-18 00:00:00  \n",
       "1            2018-08-13 00:00:00  \n",
       "2            2018-09-04 00:00:00  \n",
       "3            2017-12-15 00:00:00  \n",
       "4            2018-02-26 00:00:00  \n",
       "5            2017-08-01 00:00:00  \n",
       "6            2017-05-09 00:00:00  \n",
       "7            2017-06-07 00:00:00  \n",
       "8            2017-03-06 00:00:00  \n",
       "9            2017-08-23 00:00:00  \n",
       "10           2017-06-07 00:00:00  \n",
       "11           2017-08-08 00:00:00  \n",
       "12           2018-07-18 00:00:00  \n",
       "13           2018-08-08 00:00:00  \n",
       "14           2018-03-21 00:00:00  \n",
       "15           2018-07-04 00:00:00  \n",
       "16           2018-02-06 00:00:00  \n",
       "17           2018-01-29 00:00:00  \n",
       "18           2017-12-11 00:00:00  \n",
       "19           2017-11-23 00:00:00  "
      ]
     },
     "execution_count": 3,
     "metadata": {},
     "output_type": "execute_result"
    }
   ],
   "source": [
    "df_orders = spark.read.format(\"csv\").load(\"s3a://warehouse/olist_orders_dataset.csv\", header=True)\n",
    "df_orders.limit(20).toPandas()"
   ]
  },
  {
   "cell_type": "code",
   "execution_count": 4,
   "id": "cfc3ed14-ca5a-4bb2-9265-7d0d34ab3f22",
   "metadata": {},
   "outputs": [],
   "source": [
    "# version 1: full records\n",
    "(\n",
    "df_orders.write.mode(\"overwrite\")\n",
    "    .option(\"compression\", \"snappy\")\n",
    "    .option(\"path\", \"s3a://warehouse/olist_orders_dataset.delta\")\n",
    "    .format(\"delta\")\n",
    "    .saveAsTable(\"olist_orders_dataset\")\n",
    ")"
   ]
  },
  {
   "cell_type": "code",
   "execution_count": null,
   "id": "7a9cc1fc-474a-4955-b447-9c3b45d134f8",
   "metadata": {},
   "outputs": [],
   "source": []
  },
  {
   "cell_type": "code",
   "execution_count": 5,
   "id": "28267102-59e9-41da-891c-972f93fcc3ac",
   "metadata": {},
   "outputs": [],
   "source": [
    "# version 2: limit 10 records\n",
    "(\n",
    "df_orders.limit(10)\n",
    "    .write.mode(\"overwrite\")\n",
    "    .option(\"compression\", \"snappy\")\n",
    "    .option(\"path\", \"s3a://warehouse/olist_orders_dataset.delta\")\n",
    "    .format(\"delta\")\n",
    "    .saveAsTable(\"olist_orders_dataset\")\n",
    ")"
   ]
  },
  {
   "cell_type": "code",
   "execution_count": null,
   "id": "07066f2f-174c-4080-8f44-a370e58883a6",
   "metadata": {},
   "outputs": [],
   "source": []
  },
  {
   "cell_type": "code",
   "execution_count": 6,
   "id": "49bd22ac-fe38-4df1-99d5-0437a3e7d503",
   "metadata": {},
   "outputs": [
    {
     "data": {
      "text/plain": [
       "99441"
      ]
     },
     "execution_count": 6,
     "metadata": {},
     "output_type": "execute_result"
    }
   ],
   "source": [
    "# select version 1\n",
    "(\n",
    "    spark.read.option(\"versionAsOf\", 0)\n",
    "    .format(\"delta\").load(\"s3a://warehouse/olist_orders_dataset.delta\")\n",
    "    .count()\n",
    ")"
   ]
  },
  {
   "cell_type": "code",
   "execution_count": 8,
   "id": "6079d3c9-388d-4e54-9456-4e2f2798f02a",
   "metadata": {},
   "outputs": [
    {
     "data": {
      "text/plain": [
       "10"
      ]
     },
     "execution_count": 8,
     "metadata": {},
     "output_type": "execute_result"
    }
   ],
   "source": [
    "# select version 2\n",
    "(\n",
    "    spark.read.option(\"versionAsOf\", 1)\n",
    "    .format(\"delta\").load(\"s3a://warehouse/olist_orders_dataset.delta\")\n",
    "    .count()\n",
    ")"
   ]
  },
  {
   "cell_type": "code",
   "execution_count": null,
   "id": "f21feac6-224a-44a0-b5f4-3ccb3d0c4656",
   "metadata": {},
   "outputs": [],
   "source": []
  },
  {
   "cell_type": "markdown",
   "id": "49e8544f-7d84-4157-b358-90bded246604",
   "metadata": {},
   "source": [
    "# Spark SQL"
   ]
  },
  {
   "cell_type": "code",
   "execution_count": 9,
   "id": "652d39e6-370d-4358-9453-a1389a00d479",
   "metadata": {},
   "outputs": [
    {
     "name": "stdout",
     "output_type": "stream",
     "text": [
      "+---------+\n",
      "|namespace|\n",
      "+---------+\n",
      "|  default|\n",
      "+---------+\n",
      "\n"
     ]
    }
   ],
   "source": [
    "spark.sql(\"show databases\").show()"
   ]
  },
  {
   "cell_type": "code",
   "execution_count": 10,
   "id": "7323c167-ab04-4793-84c6-eb0e461e938a",
   "metadata": {},
   "outputs": [
    {
     "name": "stdout",
     "output_type": "stream",
     "text": [
      "+---------+--------------------+-----------+\n",
      "|namespace|           tableName|isTemporary|\n",
      "+---------+--------------------+-----------+\n",
      "|  default|olist_orders_dataset|      false|\n",
      "+---------+--------------------+-----------+\n",
      "\n"
     ]
    }
   ],
   "source": [
    "spark.sql(\"show tables\").show()"
   ]
  },
  {
   "cell_type": "code",
   "execution_count": 11,
   "id": "a113c496-e491-407b-83f6-3c5ef3714781",
   "metadata": {},
   "outputs": [
    {
     "name": "stdout",
     "output_type": "stream",
     "text": [
      "+--------------------+--------------------+------------+------------------------+-------------------+----------------------------+-----------------------------+-----------------------------+\n",
      "|            order_id|         customer_id|order_status|order_purchase_timestamp|  order_approved_at|order_delivered_carrier_date|order_delivered_customer_date|order_estimated_delivery_date|\n",
      "+--------------------+--------------------+------------+------------------------+-------------------+----------------------------+-----------------------------+-----------------------------+\n",
      "|e481f51cbdc54678b...|9ef432eb625129730...|   delivered|     2017-10-02 10:56:33|2017-10-02 11:07:15|         2017-10-04 19:55:00|          2017-10-10 21:25:13|          2017-10-18 00:00:00|\n",
      "|53cdb2fc8bc7dce0b...|b0830fb4747a6c6d2...|   delivered|     2018-07-24 20:41:37|2018-07-26 03:24:27|         2018-07-26 14:31:00|          2018-08-07 15:27:45|          2018-08-13 00:00:00|\n",
      "|47770eb9100c2d0c4...|41ce2a54c0b03bf34...|   delivered|     2018-08-08 08:38:49|2018-08-08 08:55:23|         2018-08-08 13:50:00|          2018-08-17 18:06:29|          2018-09-04 00:00:00|\n",
      "|949d5b44dbf5de918...|f88197465ea7920ad...|   delivered|     2017-11-18 19:28:06|2017-11-18 19:45:59|         2017-11-22 13:39:59|          2017-12-02 00:28:42|          2017-12-15 00:00:00|\n",
      "|ad21c59c0840e6cb8...|8ab97904e6daea886...|   delivered|     2018-02-13 21:18:39|2018-02-13 22:20:29|         2018-02-14 19:46:34|          2018-02-16 18:17:02|          2018-02-26 00:00:00|\n",
      "|a4591c265e18cb1dc...|503740e9ca751ccdd...|   delivered|     2017-07-09 21:57:05|2017-07-09 22:10:13|         2017-07-11 14:58:04|          2017-07-26 10:57:55|          2017-08-01 00:00:00|\n",
      "|136cce7faa42fdb2c...|ed0271e0b7da060a3...|    invoiced|     2017-04-11 12:22:08|2017-04-13 13:25:17|                        null|                         null|          2017-05-09 00:00:00|\n",
      "|6514b8ad8028c9f2c...|9bdf08b4b3b52b552...|   delivered|     2017-05-16 13:10:30|2017-05-16 13:22:11|         2017-05-22 10:07:46|          2017-05-26 12:55:51|          2017-06-07 00:00:00|\n",
      "|76c6e866289321a7c...|f54a9f0e6b351c431...|   delivered|     2017-01-23 18:29:09|2017-01-25 02:50:47|         2017-01-26 14:16:31|          2017-02-02 14:08:10|          2017-03-06 00:00:00|\n",
      "|e69bfb5eb88e0ed6a...|31ad1d1b63eb99624...|   delivered|     2017-07-29 11:55:02|2017-07-29 12:05:32|         2017-08-10 19:45:24|          2017-08-16 17:14:30|          2017-08-23 00:00:00|\n",
      "+--------------------+--------------------+------------+------------------------+-------------------+----------------------------+-----------------------------+-----------------------------+\n",
      "\n"
     ]
    }
   ],
   "source": [
    "spark.sql(\"SELECT * FROM olist_orders_dataset\").show()"
   ]
  },
  {
   "cell_type": "code",
   "execution_count": 13,
   "id": "357b539c-8222-498d-92fb-e3252b9e972f",
   "metadata": {},
   "outputs": [
    {
     "name": "stdout",
     "output_type": "stream",
     "text": [
      "+-----------+\n",
      "|num_records|\n",
      "+-----------+\n",
      "|      99441|\n",
      "+-----------+\n",
      "\n"
     ]
    }
   ],
   "source": [
    "# select version 1\n",
    "spark.sql(\"SELECT COUNT(*) AS num_records FROM olist_orders_dataset VERSION AS OF 0\").show()"
   ]
  },
  {
   "cell_type": "code",
   "execution_count": 14,
   "id": "077e4f41-0317-4af4-961f-cf0aca3b6c1b",
   "metadata": {},
   "outputs": [
    {
     "name": "stdout",
     "output_type": "stream",
     "text": [
      "+-----------+\n",
      "|num_records|\n",
      "+-----------+\n",
      "|         10|\n",
      "+-----------+\n",
      "\n"
     ]
    }
   ],
   "source": [
    "# select version 2\n",
    "spark.sql(\"SELECT COUNT(*) AS num_records FROM olist_orders_dataset VERSION AS OF 1\").show()"
   ]
  },
  {
   "cell_type": "code",
   "execution_count": null,
   "id": "c54b136f-13a0-45de-ad10-c2670bfa6ebb",
   "metadata": {},
   "outputs": [],
   "source": []
  }
 ],
 "metadata": {
  "kernelspec": {
   "display_name": "Python 3 (ipykernel)",
   "language": "python",
   "name": "python3"
  },
  "language_info": {
   "codemirror_mode": {
    "name": "ipython",
    "version": 3
   },
   "file_extension": ".py",
   "mimetype": "text/x-python",
   "name": "python",
   "nbconvert_exporter": "python",
   "pygments_lexer": "ipython3",
   "version": "3.8.13"
  }
 },
 "nbformat": 4,
 "nbformat_minor": 5
}
